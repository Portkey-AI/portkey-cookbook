{
  "nbformat": 4,
  "nbformat_minor": 0,
  "metadata": {
    "colab": {
      "provenance": [],
      "include_colab_link": true
    },
    "kernelspec": {
      "name": "python3",
      "display_name": "Python 3"
    },
    "language_info": {
      "name": "python"
    }
  },
  "cells": [
    {
      "cell_type": "markdown",
      "metadata": {
        "id": "view-in-github",
        "colab_type": "text"
      },
      "source": [
        "<a href=\"https://colab.research.google.com/github/satvik314/portkey-cookbook/blob/main/ai-gateway/llama_3_with_portkey_together_ai.ipynb\" target=\"_parent\"><img src=\"https://colab.research.google.com/assets/colab-badge.svg\" alt=\"Open In Colab\"/></a>"
      ]
    },
    {
      "cell_type": "markdown",
      "source": [
        "# Llama 3 on Together AI + Portkey\n",
        "\n",
        "<img src=\"https://cdn.mos.cms.futurecdn.net/RNrVwVfRiyoKkrr8djHvf9-1200-80.jpg\" height=400>\n",
        "\n",
        "## Try out the new Llama 3 model directly using the OpenAI SDK"
      ],
      "metadata": {
        "id": "SuPNAcKDoBQo"
      }
    },
    {
      "cell_type": "markdown",
      "source": [
        "You will need Portkey and Together AI API keys to run this notebook.\n",
        "\n",
        "- Sign up for Portkey and generate your API key [here](https://app.portkey.ai/)\n",
        "- Get your Together AI key [here](https://api.together.xyz/settings/api-keys)\n"
      ],
      "metadata": {
        "id": "rQSrrUBwkmOP"
      }
    },
    {
      "cell_type": "code",
      "source": [
        "!pip install -qU portkey-ai openai\n",
        "\n",
        "from openai import OpenAI\n",
        "from portkey_ai import PORTKEY_GATEWAY_URL, createHeaders\n",
        "from google.colab import userdata"
      ],
      "metadata": {
        "id": "QNRIgaAIk--q",
        "outputId": "3238b355-c7d7-48b5-ad8e-eef6212a1e85",
        "colab": {
          "base_uri": "https://localhost:8080/"
        }
      },
      "execution_count": null,
      "outputs": [
        {
          "output_type": "stream",
          "name": "stdout",
          "text": [
            "\u001b[2K     \u001b[90m━━━━━━━━━━━━━━━━━━━━━━━━━━━━━━━━━━━━━━━━\u001b[0m \u001b[32m62.3/62.3 kB\u001b[0m \u001b[31m1.2 MB/s\u001b[0m eta \u001b[36m0:00:00\u001b[0m\n",
            "\u001b[2K     \u001b[90m━━━━━━━━━━━━━━━━━━━━━━━━━━━━━━━━━━━━━━━━\u001b[0m \u001b[32m311.0/311.0 kB\u001b[0m \u001b[31m10.8 MB/s\u001b[0m eta \u001b[36m0:00:00\u001b[0m\n",
            "\u001b[2K     \u001b[90m━━━━━━━━━━━━━━━━━━━━━━━━━━━━━━━━━━━━━━━━\u001b[0m \u001b[32m75.6/75.6 kB\u001b[0m \u001b[31m6.5 MB/s\u001b[0m eta \u001b[36m0:00:00\u001b[0m\n",
            "\u001b[2K     \u001b[90m━━━━━━━━━━━━━━━━━━━━━━━━━━━━━━━━━━━━━━━━\u001b[0m \u001b[32m12.5/12.5 MB\u001b[0m \u001b[31m31.4 MB/s\u001b[0m eta \u001b[36m0:00:00\u001b[0m\n",
            "\u001b[2K     \u001b[90m━━━━━━━━━━━━━━━━━━━━━━━━━━━━━━━━━━━━━━━━\u001b[0m \u001b[32m77.9/77.9 kB\u001b[0m \u001b[31m7.7 MB/s\u001b[0m eta \u001b[36m0:00:00\u001b[0m\n",
            "\u001b[2K     \u001b[90m━━━━━━━━━━━━━━━━━━━━━━━━━━━━━━━━━━━━━━━━\u001b[0m \u001b[32m58.3/58.3 kB\u001b[0m \u001b[31m5.9 MB/s\u001b[0m eta \u001b[36m0:00:00\u001b[0m\n",
            "\u001b[?25h"
          ]
        }
      ]
    },
    {
      "cell_type": "markdown",
      "source": [
        "## With OpenAI Client"
      ],
      "metadata": {
        "id": "ptP4L78HlBUL"
      }
    },
    {
      "cell_type": "code",
      "source": [
        "from openai import OpenAI\n",
        "from portkey_ai import PORTKEY_GATEWAY_URL, createHeaders\n",
        "\n",
        "openai = OpenAI(\n",
        "    api_key= userdata.get('TOGETHER_API_KEY'), ## Grab from https://api.together.xyz/\n",
        "    base_url=PORTKEY_GATEWAY_URL,\n",
        "    default_headers=createHeaders(\n",
        "        provider=\"together-ai\",\n",
        "        api_key= userdata.get('PORTKEY_API_KEY'), ## Grab from https://app.portkey.ai/\n",
        "    )\n",
        ")\n",
        "\n",
        "response = openai.chat.completions.create(\n",
        "    model=\"meta-llama/Llama-3-8b-chat-hf\",\n",
        "    messages=[{\"role\": \"user\",\n",
        "               \"content\": \"What's a fractal?\"}],\n",
        ")\n",
        "\n",
        "print(response.choices[0].message.content)"
      ],
      "metadata": {
        "id": "Yz7e9rokcCj0",
        "colab": {
          "base_uri": "https://localhost:8080/"
        },
        "outputId": "37363d8c-ee03-44cc-defa-755ff747f974"
      },
      "execution_count": null,
      "outputs": [
        {
          "output_type": "stream",
          "name": "stdout",
          "text": [
            "A fractal is a geometric shape that displays self-similarity, meaning it appears the same at different scales. Fractals are often irregular and have non-integer dimensions, which means they don't fit into the traditional categories of geometry.\n",
            "\n",
            "Fractals can be found in nature, art, and mathematics. They have unique properties that make them fascinating and useful in various fields, such as:\n",
            "\n",
            "1. **Self-similarity**: Fractals have the same pattern repeated at different scales. This means that a small part of the fractal looks like the whole fractal, or a larger part of it.\n",
            "2. **Non\n"
          ]
        }
      ]
    },
    {
      "cell_type": "markdown",
      "source": [
        "## With Portkey Client"
      ],
      "metadata": {
        "id": "CNTJZT3slZPS"
      }
    },
    {
      "cell_type": "markdown",
      "source": [
        "**Note: You can safely store your Together API key in [Portkey](https://app.portkey.ai/) and access models using virtual key**"
      ],
      "metadata": {
        "id": "cIF7gu7elyWB"
      }
    },
    {
      "cell_type": "code",
      "source": [
        "from portkey_ai import Portkey\n",
        "\n",
        "portkey = Portkey(\n",
        "    api_key = userdata.get('PORTKEY_API_KEY'),   ## Grab from https://app.portkey.ai/\n",
        "    virtual_key= \"together-1c20e9\",   ## Grab from https://api.together.xyz/ and add to Portkey Virtual Keys\n",
        ")\n",
        "\n",
        "response = portkey.chat.completions.create(\n",
        "    messages= [{ \"role\": 'user', \"content\": 'Who are you?'}],\n",
        "    model= 'meta-llama/Llama-3-8b-chat-hf',\n",
        "    max_tokens=500\n",
        ")\n",
        "\n",
        "print(response.choices[0].message.content)"
      ],
      "metadata": {
        "id": "Ngu4JYegkQCS",
        "colab": {
          "base_uri": "https://localhost:8080/"
        },
        "outputId": "1611f133-f7d8-4450-a06a-61186c26f0bf"
      },
      "execution_count": null,
      "outputs": [
        {
          "output_type": "stream",
          "name": "stdout",
          "text": [
            "I am LLaMA, an AI assistant developed by Meta AI that can understand and respond to human input in a conversational manner. I'm not a human, but a computer program designed to simulate conversation, answer questions, and even generate text based on what you type or say.\n",
            "\n",
            "I'm trained on a massive dataset of text from the internet and can generate human-like responses to a wide range of topics and questions. My primary function is to assist and provide helpful information to users, while also being able to engage in natural-sounding conversations.\n",
            "\n",
            "I don't have personal opinions or emotions, but I'm designed to be friendly, informative, and engaging. I can help with tasks such as answering questions, providing definitions, generating ideas, and even creating stories or poetry.\n",
            "\n",
            "So, what's on your mind? Do you have a question, topic you'd like to discuss, or perhaps a creative project you'd like to work on together? I'm here to help!\n"
          ]
        }
      ]
    },
    {
      "cell_type": "markdown",
      "source": [
        "## Monitoring your Requests\n",
        "\n",
        "### Using Portkey you can monitor your Mixtral requests and track tokens, cost, latency, and more.\n",
        "\n",
        "\n",
        "![](https://portkey.ai/blog/content/images/2024/04/logs.gif)"
      ],
      "metadata": {
        "id": "8nE2yUHstFBE"
      }
    }
  ]
}