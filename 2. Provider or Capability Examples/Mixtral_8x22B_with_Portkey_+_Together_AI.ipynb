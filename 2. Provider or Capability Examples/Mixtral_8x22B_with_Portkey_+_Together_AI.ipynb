{
  "nbformat": 4,
  "nbformat_minor": 0,
  "metadata": {
    "colab": {
      "provenance": [],
      "name": "Mixtral 8x22B with Portkey + Together AI"
    },
    "kernelspec": {
      "name": "python3",
      "display_name": "Python 3"
    },
    "language_info": {
      "name": "python"
    }
  },
  "cells": [
    {
      "cell_type": "markdown",
      "source": [
        "# Mixtral 8x22B on Together AI + Portkey\n",
        "\n",
        "<img src=\"https://portkey.ai/blog/content/images/size/w1600/2024/04/mixtral-8x-2.png\" height=400>\n",
        "\n",
        "## Try out the new Mixtral model directly using the OpenAI SDK"
      ],
      "metadata": {
        "id": "SuPNAcKDoBQo"
      }
    },
    {
      "cell_type": "markdown",
      "source": [
        "You will need Portkey and Together AI API keys to run this notebook.\n",
        "\n",
        "- Sign up for Portkey and generate your API key [here](https://app.portkey.ai/)\n",
        "- Get your Together AI key [here](https://api.together.xyz/settings/api-keys)\n"
      ],
      "metadata": {
        "id": "rQSrrUBwkmOP"
      }
    },
    {
      "cell_type": "code",
      "source": [
        "!pip install -qU portkey-ai openai\n",
        "\n",
        "from openai import OpenAI\n",
        "from portkey_ai import PORTKEY_GATEWAY_URL, createHeaders\n",
        "from google.colab import userdata"
      ],
      "metadata": {
        "id": "QNRIgaAIk--q"
      },
      "execution_count": null,
      "outputs": []
    },
    {
      "cell_type": "markdown",
      "source": [
        "## With OpenAI Client"
      ],
      "metadata": {
        "id": "ptP4L78HlBUL"
      }
    },
    {
      "cell_type": "code",
      "source": [
        "from openai import OpenAI\n",
        "from portkey_ai import PORTKEY_GATEWAY_URL, createHeaders\n",
        "\n",
        "openai = OpenAI(\n",
        "    api_key= userdata.get('TOGETHER_API_KEY'), ## Grab from https://api.together.xyz/\n",
        "    base_url=PORTKEY_GATEWAY_URL,\n",
        "    default_headers=createHeaders(\n",
        "        provider=\"together-ai\",\n",
        "        api_key= userdata.get('PORTKEY_API_KEY'), ## Grab from https://app.portkey.ai/\n",
        "    )\n",
        ")\n",
        "\n",
        "response = openai.chat.completions.create(\n",
        "    model=\"mistralai/Mixtral-8x22B\",\n",
        "    messages=[{\"role\": \"user\",\n",
        "               \"content\": \"What's a fractal?\"}],\n",
        ")\n",
        "\n",
        "print(response.choices[0].message.content)"
      ],
      "metadata": {
        "id": "Yz7e9rokcCj0"
      },
      "execution_count": null,
      "outputs": []
    },
    {
      "cell_type": "markdown",
      "source": [
        "## With Portkey Client"
      ],
      "metadata": {
        "id": "CNTJZT3slZPS"
      }
    },
    {
      "cell_type": "markdown",
      "source": [
        "**Note: You can safely store your Together API key in [Portkey](https://app.portkey.ai/) and access models using virtual key**"
      ],
      "metadata": {
        "id": "cIF7gu7elyWB"
      }
    },
    {
      "cell_type": "code",
      "source": [
        "from portkey_ai import Portkey\n",
        "\n",
        "portkey = Portkey(\n",
        "    api_key = userdata.get('PORTKEY_API_KEY'),   ## Grab from https://app.portkey.ai/\n",
        "    virtual_key= \"together-1c20e9\",   ## Grab from https://api.together.xyz/ and add to Portkey Virtual Keys\n",
        ")\n",
        "\n",
        "response = portkey.chat.completions.create(\n",
        "    messages= [{ \"role\": 'user', \"content\": 'Who are you?'}],\n",
        "    model= 'mistralai/Mixtral-8x22B',\n",
        "    max_tokens=250\n",
        ")\n",
        "\n",
        "print(response.choices[0].message.content)"
      ],
      "metadata": {
        "id": "Ngu4JYegkQCS"
      },
      "execution_count": null,
      "outputs": []
    },
    {
      "cell_type": "markdown",
      "source": [
        "## Monitoring your Requests\n",
        "\n",
        "### Using Portkey you can monitor your Mixtral requests and track tokens, cost, latency, and more.\n",
        "\n",
        "\n",
        "![](https://portkey.ai/blog/content/images/2024/04/logs.gif)"
      ],
      "metadata": {
        "id": "8nE2yUHstFBE"
      }
    }
  ]
}